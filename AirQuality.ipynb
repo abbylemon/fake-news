{
 "cells": [
  {
   "cell_type": "code",
   "execution_count": 1,
   "metadata": {},
   "outputs": [],
   "source": [
    "# imports\n",
    "import requests\n",
    "import pandas as pd\n",
    "from census import Census\n",
    "import matplotlib.pyplot as plt\n",
    "\n",
    "# api keys\n",
    "from config import wkey, epakey, censuskey"
   ]
  },
  {
   "cell_type": "code",
   "execution_count": null,
   "metadata": {},
   "outputs": [],
   "source": [
    "# Abby's section starts here"
   ]
  },
  {
   "cell_type": "code",
   "execution_count": 2,
   "metadata": {},
   "outputs": [
    {
     "data": {
      "text/plain": [
       "{'ID': 14633,\n",
       " 'Label': ' Hazelwood canary ',\n",
       " 'DEVICE_LOCATIONTYPE': 'outside',\n",
       " 'THINGSPEAK_PRIMARY_ID': '559921',\n",
       " 'THINGSPEAK_PRIMARY_ID_READ_KEY': 'CU4BQZZ38WO5UJ4C',\n",
       " 'THINGSPEAK_SECONDARY_ID': '559922',\n",
       " 'THINGSPEAK_SECONDARY_ID_READ_KEY': 'D0YNZ1LM59LL49VQ',\n",
       " 'Lat': 37.275561,\n",
       " 'Lon': -121.964134,\n",
       " 'PM2_5Value': '1.69',\n",
       " 'LastSeen': 1579746143,\n",
       " 'Type': 'PMS5003+PMS5003+BME280',\n",
       " 'Hidden': 'false',\n",
       " 'isOwner': 0,\n",
       " 'humidity': '49',\n",
       " 'temp_f': '66',\n",
       " 'pressure': '1016.99',\n",
       " 'AGE': 1,\n",
       " 'Stats': '{\"v\":1.69,\"v1\":1.52,\"v2\":1.81,\"v3\":2.0,\"v4\":1.76,\"v5\":4.68,\"v6\":5.63,\"pm\":1.69,\"lastModified\":1579746143980,\"timeSinceModified\":119918}'}"
      ]
     },
     "execution_count": 2,
     "metadata": {},
     "output_type": "execute_result"
    }
   ],
   "source": [
    "# PurpleAir API\n",
    "\n",
    "base_url = \"https://www.purpleair.com/json\"\n",
    "response = requests.get(base_url)\n",
    "puruple_air = response.json()\n",
    "\n",
    "puruple_air['results'][0]"
   ]
  },
  {
   "cell_type": "code",
   "execution_count": 3,
   "metadata": {},
   "outputs": [
    {
     "data": {
      "text/html": [
       "<div>\n",
       "<style scoped>\n",
       "    .dataframe tbody tr th:only-of-type {\n",
       "        vertical-align: middle;\n",
       "    }\n",
       "\n",
       "    .dataframe tbody tr th {\n",
       "        vertical-align: top;\n",
       "    }\n",
       "\n",
       "    .dataframe thead th {\n",
       "        text-align: right;\n",
       "    }\n",
       "</style>\n",
       "<table border=\"1\" class=\"dataframe\">\n",
       "  <thead>\n",
       "    <tr style=\"text-align: right;\">\n",
       "      <th></th>\n",
       "      <th>NAME</th>\n",
       "      <th>B19013_001E</th>\n",
       "      <th>B01003_001E</th>\n",
       "      <th>B01002_001E</th>\n",
       "      <th>B19301_001E</th>\n",
       "      <th>B17001_002E</th>\n",
       "      <th>zip code tabulation area</th>\n",
       "    </tr>\n",
       "  </thead>\n",
       "  <tbody>\n",
       "    <tr>\n",
       "      <th>0</th>\n",
       "      <td>ZCTA5 00601</td>\n",
       "      <td>13092.0</td>\n",
       "      <td>17242.0</td>\n",
       "      <td>40.5</td>\n",
       "      <td>6999.0</td>\n",
       "      <td>10772.0</td>\n",
       "      <td>00601</td>\n",
       "    </tr>\n",
       "    <tr>\n",
       "      <th>1</th>\n",
       "      <td>ZCTA5 00602</td>\n",
       "      <td>16358.0</td>\n",
       "      <td>38442.0</td>\n",
       "      <td>42.3</td>\n",
       "      <td>9277.0</td>\n",
       "      <td>19611.0</td>\n",
       "      <td>00602</td>\n",
       "    </tr>\n",
       "    <tr>\n",
       "      <th>2</th>\n",
       "      <td>ZCTA5 00603</td>\n",
       "      <td>16603.0</td>\n",
       "      <td>48814.0</td>\n",
       "      <td>41.1</td>\n",
       "      <td>11307.0</td>\n",
       "      <td>24337.0</td>\n",
       "      <td>00603</td>\n",
       "    </tr>\n",
       "    <tr>\n",
       "      <th>3</th>\n",
       "      <td>ZCTA5 00606</td>\n",
       "      <td>12832.0</td>\n",
       "      <td>6437.0</td>\n",
       "      <td>43.3</td>\n",
       "      <td>5943.0</td>\n",
       "      <td>4163.0</td>\n",
       "      <td>00606</td>\n",
       "    </tr>\n",
       "    <tr>\n",
       "      <th>4</th>\n",
       "      <td>ZCTA5 00610</td>\n",
       "      <td>19309.0</td>\n",
       "      <td>27073.0</td>\n",
       "      <td>42.1</td>\n",
       "      <td>10220.0</td>\n",
       "      <td>11724.0</td>\n",
       "      <td>00610</td>\n",
       "    </tr>\n",
       "    <tr>\n",
       "      <th>...</th>\n",
       "      <td>...</td>\n",
       "      <td>...</td>\n",
       "      <td>...</td>\n",
       "      <td>...</td>\n",
       "      <td>...</td>\n",
       "      <td>...</td>\n",
       "      <td>...</td>\n",
       "    </tr>\n",
       "    <tr>\n",
       "      <th>33115</th>\n",
       "      <td>ZCTA5 87515</td>\n",
       "      <td>NaN</td>\n",
       "      <td>363.0</td>\n",
       "      <td>44.2</td>\n",
       "      <td>NaN</td>\n",
       "      <td>NaN</td>\n",
       "      <td>87515</td>\n",
       "    </tr>\n",
       "    <tr>\n",
       "      <th>33116</th>\n",
       "      <td>ZCTA5 87518</td>\n",
       "      <td>NaN</td>\n",
       "      <td>9.0</td>\n",
       "      <td>-666666666.0</td>\n",
       "      <td>NaN</td>\n",
       "      <td>NaN</td>\n",
       "      <td>87518</td>\n",
       "    </tr>\n",
       "    <tr>\n",
       "      <th>33117</th>\n",
       "      <td>ZCTA5 87511</td>\n",
       "      <td>NaN</td>\n",
       "      <td>2896.0</td>\n",
       "      <td>36.0</td>\n",
       "      <td>NaN</td>\n",
       "      <td>NaN</td>\n",
       "      <td>87511</td>\n",
       "    </tr>\n",
       "    <tr>\n",
       "      <th>33118</th>\n",
       "      <td>ZCTA5 87578</td>\n",
       "      <td>NaN</td>\n",
       "      <td>245.0</td>\n",
       "      <td>48.0</td>\n",
       "      <td>NaN</td>\n",
       "      <td>NaN</td>\n",
       "      <td>87578</td>\n",
       "    </tr>\n",
       "    <tr>\n",
       "      <th>33119</th>\n",
       "      <td>ZCTA5 87532</td>\n",
       "      <td>NaN</td>\n",
       "      <td>18756.0</td>\n",
       "      <td>39.3</td>\n",
       "      <td>NaN</td>\n",
       "      <td>NaN</td>\n",
       "      <td>87532</td>\n",
       "    </tr>\n",
       "  </tbody>\n",
       "</table>\n",
       "<p>33120 rows × 7 columns</p>\n",
       "</div>"
      ],
      "text/plain": [
       "              NAME  B19013_001E  B01003_001E  B01002_001E  B19301_001E  \\\n",
       "0      ZCTA5 00601      13092.0      17242.0         40.5       6999.0   \n",
       "1      ZCTA5 00602      16358.0      38442.0         42.3       9277.0   \n",
       "2      ZCTA5 00603      16603.0      48814.0         41.1      11307.0   \n",
       "3      ZCTA5 00606      12832.0       6437.0         43.3       5943.0   \n",
       "4      ZCTA5 00610      19309.0      27073.0         42.1      10220.0   \n",
       "...            ...          ...          ...          ...          ...   \n",
       "33115  ZCTA5 87515          NaN        363.0         44.2          NaN   \n",
       "33116  ZCTA5 87518          NaN          9.0 -666666666.0          NaN   \n",
       "33117  ZCTA5 87511          NaN       2896.0         36.0          NaN   \n",
       "33118  ZCTA5 87578          NaN        245.0         48.0          NaN   \n",
       "33119  ZCTA5 87532          NaN      18756.0         39.3          NaN   \n",
       "\n",
       "       B17001_002E zip code tabulation area  \n",
       "0          10772.0                    00601  \n",
       "1          19611.0                    00602  \n",
       "2          24337.0                    00603  \n",
       "3           4163.0                    00606  \n",
       "4          11724.0                    00610  \n",
       "...            ...                      ...  \n",
       "33115          NaN                    87515  \n",
       "33116          NaN                    87518  \n",
       "33117          NaN                    87511  \n",
       "33118          NaN                    87578  \n",
       "33119          NaN                    87532  \n",
       "\n",
       "[33120 rows x 7 columns]"
      ]
     },
     "execution_count": 3,
     "metadata": {},
     "output_type": "execute_result"
    }
   ],
   "source": [
    "# Census API\n",
    "\n",
    "c = Census(censuskey, year=2018)\n",
    "# need to get this working for 2019, what is the difference between 2010 and 2019?\n",
    "census_data = c.acs5.get((\"NAME\", \"B19013_001E\", \"B01003_001E\", \"B01002_001E\", \"B19301_001E\", \"B17001_002E\"), {'for': 'zip code tabulation area:*'})\n",
    "\n",
    "census_pd = pd.DataFrame(census_data)\n",
    "census_pd"
   ]
  },
  {
   "cell_type": "code",
   "execution_count": null,
   "metadata": {},
   "outputs": [],
   "source": [
    "# Abby's section ends here"
   ]
  },
  {
   "cell_type": "code",
   "execution_count": null,
   "metadata": {},
   "outputs": [],
   "source": [
    "# Alan's section starts here"
   ]
  },
  {
   "cell_type": "code",
   "execution_count": null,
   "metadata": {},
   "outputs": [],
   "source": [
    "# Alan's section ends here"
   ]
  },
  {
   "cell_type": "code",
   "execution_count": null,
   "metadata": {},
   "outputs": [],
   "source": [
    "# Brandon's section starts here"
   ]
  },
  {
   "cell_type": "code",
   "execution_count": null,
   "metadata": {},
   "outputs": [],
   "source": [
    "# Brandon's section ends here"
   ]
  }
 ],
 "metadata": {
  "kernelspec": {
   "display_name": "Python 3",
   "language": "python",
   "name": "python3"
  },
  "language_info": {
   "codemirror_mode": {
    "name": "ipython",
    "version": 3
   },
   "file_extension": ".py",
   "mimetype": "text/x-python",
   "name": "python",
   "nbconvert_exporter": "python",
   "pygments_lexer": "ipython3",
   "version": "3.6.9"
  }
 },
 "nbformat": 4,
 "nbformat_minor": 2
}
