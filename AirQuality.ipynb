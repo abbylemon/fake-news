{
 "cells": [
  {
   "cell_type": "code",
   "execution_count": 4,
   "metadata": {},
   "outputs": [],
   "source": [
    "# imports\n",
    "import requests\n",
    "import pandas as pd\n",
    "from census import Census\n",
    "import matplotlib.pyplot as plt\n",
    "\n",
    "# api keys\n",
    "from config import wkey, epakey, censuskey"
   ]
  },
  {
   "cell_type": "code",
   "execution_count": null,
   "metadata": {},
   "outputs": [],
   "source": [
    "# Abby's section starts here"
   ]
  },
  {
   "cell_type": "code",
   "execution_count": 5,
   "metadata": {},
   "outputs": [
    {
     "data": {
      "text/plain": [
       "{'ID': 14633,\n",
       " 'Label': ' Hazelwood canary ',\n",
       " 'DEVICE_LOCATIONTYPE': 'outside',\n",
       " 'THINGSPEAK_PRIMARY_ID': '559921',\n",
       " 'THINGSPEAK_PRIMARY_ID_READ_KEY': 'CU4BQZZ38WO5UJ4C',\n",
       " 'THINGSPEAK_SECONDARY_ID': '559922',\n",
       " 'THINGSPEAK_SECONDARY_ID_READ_KEY': 'D0YNZ1LM59LL49VQ',\n",
       " 'Lat': 37.275561,\n",
       " 'Lon': -121.964134,\n",
       " 'PM2_5Value': '2.65',\n",
       " 'LastSeen': 1579579103,\n",
       " 'Type': 'PMS5003+PMS5003+BME280',\n",
       " 'Hidden': 'false',\n",
       " 'isOwner': 0,\n",
       " 'humidity': '48',\n",
       " 'temp_f': '62',\n",
       " 'pressure': '1010.68',\n",
       " 'AGE': 0,\n",
       " 'Stats': '{\"v\":2.65,\"v1\":2.65,\"v2\":3.09,\"v3\":4.15,\"v4\":11.63,\"v5\":10.04,\"v6\":6.26,\"pm\":2.65,\"lastModified\":1579579103798,\"timeSinceModified\":119956}'}"
      ]
     },
     "execution_count": 5,
     "metadata": {},
     "output_type": "execute_result"
    }
   ],
   "source": [
    "# PurpleAir API\n",
    "\n",
    "base_url = \"https://www.purpleair.com/json\"\n",
    "response = requests.get(base_url)\n",
    "puruple_air = response.json()\n",
    "\n",
    "puruple_air['results'][0]"
   ]
  },
  {
   "cell_type": "code",
   "execution_count": 8,
   "metadata": {},
   "outputs": [
    {
     "data": {
      "text/html": [
       "<div>\n",
       "<style scoped>\n",
       "    .dataframe tbody tr th:only-of-type {\n",
       "        vertical-align: middle;\n",
       "    }\n",
       "\n",
       "    .dataframe tbody tr th {\n",
       "        vertical-align: top;\n",
       "    }\n",
       "\n",
       "    .dataframe thead th {\n",
       "        text-align: right;\n",
       "    }\n",
       "</style>\n",
       "<table border=\"1\" class=\"dataframe\">\n",
       "  <thead>\n",
       "    <tr style=\"text-align: right;\">\n",
       "      <th></th>\n",
       "      <th>NAME</th>\n",
       "      <th>B19013_001E</th>\n",
       "      <th>B01003_001E</th>\n",
       "      <th>B01002_001E</th>\n",
       "      <th>B19301_001E</th>\n",
       "      <th>B17001_002E</th>\n",
       "      <th>zip code tabulation area</th>\n",
       "    </tr>\n",
       "  </thead>\n",
       "  <tbody>\n",
       "    <tr>\n",
       "      <th>0</th>\n",
       "      <td>ZCTA5 08518</td>\n",
       "      <td>74286.0</td>\n",
       "      <td>5217.0</td>\n",
       "      <td>41.5</td>\n",
       "      <td>33963.0</td>\n",
       "      <td>170.0</td>\n",
       "      <td>08518</td>\n",
       "    </tr>\n",
       "    <tr>\n",
       "      <th>1</th>\n",
       "      <td>ZCTA5 08520</td>\n",
       "      <td>90293.0</td>\n",
       "      <td>27468.0</td>\n",
       "      <td>37.4</td>\n",
       "      <td>37175.0</td>\n",
       "      <td>1834.0</td>\n",
       "      <td>08520</td>\n",
       "    </tr>\n",
       "    <tr>\n",
       "      <th>2</th>\n",
       "      <td>ZCTA5 08525</td>\n",
       "      <td>118656.0</td>\n",
       "      <td>4782.0</td>\n",
       "      <td>47.1</td>\n",
       "      <td>59848.0</td>\n",
       "      <td>43.0</td>\n",
       "      <td>08525</td>\n",
       "    </tr>\n",
       "    <tr>\n",
       "      <th>3</th>\n",
       "      <td>ZCTA5 08527</td>\n",
       "      <td>88588.0</td>\n",
       "      <td>54867.0</td>\n",
       "      <td>42.2</td>\n",
       "      <td>37021.0</td>\n",
       "      <td>2191.0</td>\n",
       "      <td>08527</td>\n",
       "    </tr>\n",
       "    <tr>\n",
       "      <th>4</th>\n",
       "      <td>ZCTA5 08528</td>\n",
       "      <td>58676.0</td>\n",
       "      <td>245.0</td>\n",
       "      <td>48.5</td>\n",
       "      <td>49117.0</td>\n",
       "      <td>0.0</td>\n",
       "      <td>08528</td>\n",
       "    </tr>\n",
       "    <tr>\n",
       "      <th>...</th>\n",
       "      <td>...</td>\n",
       "      <td>...</td>\n",
       "      <td>...</td>\n",
       "      <td>...</td>\n",
       "      <td>...</td>\n",
       "      <td>...</td>\n",
       "      <td>...</td>\n",
       "    </tr>\n",
       "    <tr>\n",
       "      <th>33115</th>\n",
       "      <td>ZCTA5 99923</td>\n",
       "      <td>21944.0</td>\n",
       "      <td>81.0</td>\n",
       "      <td>64.3</td>\n",
       "      <td>17225.0</td>\n",
       "      <td>4.0</td>\n",
       "      <td>99923</td>\n",
       "    </tr>\n",
       "    <tr>\n",
       "      <th>33116</th>\n",
       "      <td>ZCTA5 99925</td>\n",
       "      <td>38125.0</td>\n",
       "      <td>668.0</td>\n",
       "      <td>46.4</td>\n",
       "      <td>25094.0</td>\n",
       "      <td>124.0</td>\n",
       "      <td>99925</td>\n",
       "    </tr>\n",
       "    <tr>\n",
       "      <th>33117</th>\n",
       "      <td>ZCTA5 99926</td>\n",
       "      <td>50052.0</td>\n",
       "      <td>1630.0</td>\n",
       "      <td>31.4</td>\n",
       "      <td>22850.0</td>\n",
       "      <td>202.0</td>\n",
       "      <td>99926</td>\n",
       "    </tr>\n",
       "    <tr>\n",
       "      <th>33118</th>\n",
       "      <td>ZCTA5 99927</td>\n",
       "      <td>19000.0</td>\n",
       "      <td>111.0</td>\n",
       "      <td>59.4</td>\n",
       "      <td>21157.0</td>\n",
       "      <td>39.0</td>\n",
       "      <td>99927</td>\n",
       "    </tr>\n",
       "    <tr>\n",
       "      <th>33119</th>\n",
       "      <td>ZCTA5 99929</td>\n",
       "      <td>45649.0</td>\n",
       "      <td>2341.0</td>\n",
       "      <td>53.1</td>\n",
       "      <td>28399.0</td>\n",
       "      <td>215.0</td>\n",
       "      <td>99929</td>\n",
       "    </tr>\n",
       "  </tbody>\n",
       "</table>\n",
       "<p>33120 rows × 7 columns</p>\n",
       "</div>"
      ],
      "text/plain": [
       "              NAME  B19013_001E  B01003_001E  B01002_001E  B19301_001E  \\\n",
       "0      ZCTA5 08518      74286.0       5217.0         41.5      33963.0   \n",
       "1      ZCTA5 08520      90293.0      27468.0         37.4      37175.0   \n",
       "2      ZCTA5 08525     118656.0       4782.0         47.1      59848.0   \n",
       "3      ZCTA5 08527      88588.0      54867.0         42.2      37021.0   \n",
       "4      ZCTA5 08528      58676.0        245.0         48.5      49117.0   \n",
       "...            ...          ...          ...          ...          ...   \n",
       "33115  ZCTA5 99923      21944.0         81.0         64.3      17225.0   \n",
       "33116  ZCTA5 99925      38125.0        668.0         46.4      25094.0   \n",
       "33117  ZCTA5 99926      50052.0       1630.0         31.4      22850.0   \n",
       "33118  ZCTA5 99927      19000.0        111.0         59.4      21157.0   \n",
       "33119  ZCTA5 99929      45649.0       2341.0         53.1      28399.0   \n",
       "\n",
       "       B17001_002E zip code tabulation area  \n",
       "0            170.0                    08518  \n",
       "1           1834.0                    08520  \n",
       "2             43.0                    08525  \n",
       "3           2191.0                    08527  \n",
       "4              0.0                    08528  \n",
       "...            ...                      ...  \n",
       "33115          4.0                    99923  \n",
       "33116        124.0                    99925  \n",
       "33117        202.0                    99926  \n",
       "33118         39.0                    99927  \n",
       "33119        215.0                    99929  \n",
       "\n",
       "[33120 rows x 7 columns]"
      ]
     },
     "execution_count": 8,
     "metadata": {},
     "output_type": "execute_result"
    }
   ],
   "source": [
    "# Census API\n",
    "\n",
    "c = Census(censuskey, year=2013)\n",
    "# need to get this working for 2019, what is the difference between 2010 and 2019?\n",
    "census_data = c.acs5.get((\"NAME\", \"B19013_001E\", \"B01003_001E\", \"B01002_001E\", \"B19301_001E\", \"B17001_002E\"), {'for': 'zip code tabulation area:*'})\n",
    "\n",
    "census_pd = pd.DataFrame(census_data)\n",
    "census_pd"
   ]
  },
  {
   "cell_type": "code",
   "execution_count": null,
   "metadata": {},
   "outputs": [],
   "source": [
    "# Abby's section ends here"
   ]
  },
  {
   "cell_type": "code",
   "execution_count": null,
   "metadata": {},
   "outputs": [],
   "source": [
    "# Alan's section starts here"
   ]
  },
  {
   "cell_type": "code",
   "execution_count": null,
   "metadata": {},
   "outputs": [],
   "source": [
    "# Alan's section ends here"
   ]
  },
  {
   "cell_type": "code",
   "execution_count": null,
   "metadata": {},
   "outputs": [],
   "source": [
    "# Brandon's section starts here"
   ]
  },
  {
   "cell_type": "code",
   "execution_count": null,
   "metadata": {},
   "outputs": [],
   "source": [
    "# Brandon's section ends here"
   ]
  }
 ],
 "metadata": {
  "kernelspec": {
   "display_name": "Python 3",
   "language": "python",
   "name": "python3"
  },
  "language_info": {
   "codemirror_mode": {
    "name": "ipython",
    "version": 3
   },
   "file_extension": ".py",
   "mimetype": "text/x-python",
   "name": "python",
   "nbconvert_exporter": "python",
   "pygments_lexer": "ipython3",
   "version": "3.6.9"
  }
 },
 "nbformat": 4,
 "nbformat_minor": 2
}
