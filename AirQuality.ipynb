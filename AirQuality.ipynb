{
 "cells": [
  {
   "cell_type": "code",
   "execution_count": null,
   "metadata": {},
   "outputs": [],
   "source": [
    "# imports\n",
    "import requests\n",
    "import pandas as pd\n",
    "from census import Census\n",
    "import matplotlib.pyplot as plt\n",
    "\n",
    "# api keys\n",
    "from config import wkey, epakey, censuskey, epaemail"
   ]
  },
  {
   "cell_type": "code",
   "execution_count": null,
   "metadata": {},
   "outputs": [],
   "source": [
    "# Abby's section starts here"
   ]
  },
  {
   "cell_type": "code",
   "execution_count": null,
   "metadata": {},
   "outputs": [],
   "source": [
    "# PurpleAir API\n",
    "\n",
    "purple_air_df = pd.DataFrame()\n",
    "purple_air_df['Index'] = [x for x in range(10000)]\n",
    "purple_air_df = purple_air_df.set_index('Index')\n",
    "purple_air_df['PLat'] = \"\"\n",
    "purple_air_df['PLng'] = \"\"\n",
    "purple_air_df['PLocation'] = \"\"\n",
    "purple_air_df['PPM2_5'] = \"\"\n",
    "purple_air_df['PDataDate'] = \"\"\n",
    "\n",
    "base_url = \"https://www.purpleair.com/json\"\n",
    "response = requests.get(base_url).json()\n",
    "\n",
    "for index, row in purple_air_df.iterrows():\n",
    "    \n",
    "    try:\n",
    "        purple_air_df.loc[index, 'PLat'] = response['results'][index]['Lat']\n",
    "        purple_air_df.loc[index, 'PLng'] = response['results'][index]['Lon']\n",
    "        purple_air_df.loc[index, 'PLocation'] = response['results'][index]['DEVICE_LOCATIONTYPE']\n",
    "        purple_air_df.loc[index, 'PPM2_5'] = response['results'][index]['PM2_5Value']\n",
    "        purple_air_df.loc[index, 'PDataDate'] = response['results'][index]['LastSeen']\n",
    "#         could also pull time since last seen and only grab values from the last hour\n",
    "    except:\n",
    "        pass\n",
    "\n",
    "purple_air_df = purple_air_df.dropna()\n",
    "purple_air_df"
   ]
  },
  {
   "cell_type": "code",
   "execution_count": null,
   "metadata": {
    "scrolled": true
   },
   "outputs": [],
   "source": [
    "purple_air_df = purple_air_df.loc[purple_air_df['PLocation']=='outside']\n",
    "purple_air_df\n",
    "\n",
    "locations = purple_air_df[['PLat', 'PLng']]\n",
    "locations"
   ]
  },
  {
   "cell_type": "code",
   "execution_count": null,
   "metadata": {},
   "outputs": [],
   "source": [
    "# EPA API\n",
    "# sample data (lowest granularity date) by box (lat, long range)\n",
    "\n",
    "lat_lng_range = 0.001\n",
    "\n",
    "pollutant = '88101'\n",
    "beginning_date = min(purple_air_df['PDataDate'])\n",
    "end_date = max(purple_air_df['PDataDate'])\n",
    "\n",
    "for lat, lng in locations:\n",
    "    min_lat = str(lat - lat_lng_range)\n",
    "    max_lat = str(lat + lat_lng_range)\n",
    "    min_lng = str(lng - lat_lng_range)\n",
    "    max_lng = str(lng + lat_lng_range)\n",
    "\n",
    "    base_url = \"https://aps.eap.gov/data/api/sampleData/byBox?\"\n",
    "    url = f'{base_url}email={epaemail}&key={epakey}&param={pollutant}&bdate={beginning_date}&edate={end_date}&minlat={min_lat}&maxlat={max_lat}&minlon={min_lng}&maxlon={max_lng}'\n",
    "    response = requests.get(url).json()\n",
    "    print(response)\n",
    "#     try:\n",
    "        \n",
    "        \n",
    "\n",
    "# ex: https://aqs.epa.gov/data/api/sampleData/byBox?email=test@aqs.api&key=test&param=44201&bdate=20150501&edate=20150502&minlat=33.3&maxlat=33.6&minlon=-87.0&maxlon=-86.7"
   ]
  },
  {
   "cell_type": "code",
   "execution_count": null,
   "metadata": {},
   "outputs": [],
   "source": [
    "# EPA API\n",
    "# EPA Air Quality Section\n",
    "# yearly data by state (minnesota)\n",
    "\n",
    "pm2_5_1Hour = []\n",
    "pm2_5_24HourBulk = []\n",
    "pm2_5_24Hour = []\n",
    "year_list = []\n",
    "years = [x for x in range(1990,2020)]\n",
    "\n",
    "email = 'abby.lemon22@gmail.com'\n",
    "state_code = \"27\" \n",
    "# PM2.5 - Local Conditions\n",
    "pollutant = \"88101\"\n",
    "\n",
    "for year in years:\n",
    "    beginging_date = f\"{year}0502\"\n",
    "    end_date = f\"{year}0502\"\n",
    "    base_url = \"https://aqs.epa.gov/data/api/annualData/byState?\"\n",
    "    url = f'{base_url}email={email}&key={epakey}&param={pollutant}&bdate={beginging_date}&edate={end_date}&state={state_code}'\n",
    "    response = requests.get(url).json()\n",
    "    try:\n",
    "        pm2_5_1Hour.append(response['Data'][0]['arithmetic_mean'])\n",
    "        pm2_5_24HourBulk.append(response['Data'][1]['arithmetic_mean'])\n",
    "        pm2_5_24Hour.append(response['Data'][5]['arithmetic_mean'])\n",
    "        year_list.append(response['Data'][0]['year'])\n",
    "    except:\n",
    "        print(f\"No data found, skip {year}.\")\n",
    "        pass\n",
    "\n"
   ]
  },
  {
   "cell_type": "code",
   "execution_count": null,
   "metadata": {},
   "outputs": [],
   "source": [
    "pm2_5_df = pd.DataFrame([year_list,pm2_5_1Hour,pm2_5_24HourBulk,pm2_5_24Hour]).T\n",
    "pm2_5_df = pm2_5_df.rename(columns={0:'Year',\n",
    "                                    1:'PM 2.5 1 hour',\n",
    "                                    2:'PM 2.5 24 hour bulk',\n",
    "                                    3:'PM 2.5 24 hour'\n",
    "})\n",
    "pm2_5_df['Year'] = pm2_5_df['Year'].astype(int)\n",
    "# pm2_5_df['PM 2.5'] = pm2_5\n",
    "pm2_5_df.to_csv(\"Resource/EPAData_per_year_MN.csv\")\n",
    "pm2_5_df"
   ]
  },
  {
   "cell_type": "code",
   "execution_count": null,
   "metadata": {},
   "outputs": [],
   "source": [
    "pm_plot = pm2_5_df.plot(kind='line', x='Year',y=['PM 2.5 1 hour','PM 2.5 24 hour bulk','PM 2.5 24 hour'],grid=True)\n",
    "plt.ylabel('PM2.5 (ug/m3)')\n",
    "plt.show()"
   ]
  },
  {
   "cell_type": "code",
   "execution_count": null,
   "metadata": {},
   "outputs": [],
   "source": [
    "# Census API\n",
    "# Thinking I might not need to pull Census data.\n",
    "\n",
    "c = Census(censuskey, year=2018)\n",
    "# need to get this working for 2019, what is the difference between 2010 and 2019?\n",
    "census_data = c.acs5.get((\"NAME\", \"B19013_001E\", \"B01003_001E\", \"B01002_001E\", \"B19301_001E\", \"B17001_002E\"), {'for': 'zip code tabulation area:*'})\n",
    "\n",
    "census_pd = pd.DataFrame(census_data)\n",
    "census_pd"
   ]
  },
  {
   "cell_type": "code",
   "execution_count": null,
   "metadata": {},
   "outputs": [],
   "source": [
    "# Abby's section ends here"
   ]
  },
  {
   "cell_type": "code",
   "execution_count": null,
   "metadata": {},
   "outputs": [],
   "source": [
    "# Alan's section starts here"
   ]
  },
  {
   "cell_type": "code",
   "execution_count": null,
   "metadata": {},
   "outputs": [],
   "source": [
    "# Alan's section ends here"
   ]
  },
  {
   "cell_type": "code",
   "execution_count": null,
   "metadata": {},
   "outputs": [],
   "source": [
    "# Brandon's section starts here"
   ]
  },
  {
   "cell_type": "code",
   "execution_count": null,
   "metadata": {},
   "outputs": [],
   "source": [
    "# Dependencies\n",
    "import numpy as np\n",
    "import pandas as pd\n",
    "import matplotlib.pyplot as plt\n",
    "from scipy import stats\n",
    "import requests\n",
    "from census import Census\n",
    "from us import states\n",
    "from config import epakey, censuskey\n",
    "\n",
    "c = Census(censuskey)"
   ]
  },
  {
   "cell_type": "code",
   "execution_count": null,
   "metadata": {},
   "outputs": [],
   "source": [
    "# Run Census Search to retrieve data on all counties in all states\n",
    "# The c.acs5.get is from the census wrapping in a github repo\n",
    "census_data_1 = c.acs5.get((\"NAME\", \"B05012_001E\"), {\"for\": \"county:*\"}, year = 2016)\n",
    "\n",
    "# Convert to DataFrame\n",
    "census_2016 = pd.DataFrame(census_data_1)\n",
    "\n",
    "# Column Reordering\n",
    "census_2016 = census_2016.rename(columns={\"B05012_001E\": \"Population\", \"NAME\": \"Name\", \"county\": \"County\"})\n",
    "\n",
    "census_mn_1 = census_2016[census_2016[\"Name\"].str.contains(\"Minnesota\")]\n",
    "census_mn_2016 = pd.concat([census_mn_1, census_mn_1[\"Name\"].str.split(',', expand=True)], axis=1)\n",
    "census_mn_2016 = census_mn_2016.rename(columns={0: \"County\", 1: \"State Name\", \"County\": \"County Code\"})\n",
    "census_mn_2016[\"County\"] = census_mn_2016[\"County\"].str.replace(\"County\", '')\n",
    "census_mn_2016[\"County\"] = census_mn_2016[\"County\"].str.strip()\n",
    "del census_mn_2016[\"Name\"]\n",
    "\n",
    "census_mn_2016.head()\n"
   ]
  },
  {
   "cell_type": "code",
   "execution_count": null,
   "metadata": {},
   "outputs": [],
   "source": [
    "census_data_2 = c.acs5.get((\"NAME\", \"B05012_001E\"), {\"for\": \"county:*\"}, year = 2017)\n",
    "\n",
    "# Convert to DataFrame\n",
    "census_2017 = pd.DataFrame(census_data_2)\n",
    "\n",
    "# Column Reordering\n",
    "census_2017 = census_2017.rename(columns={\"B05012_001E\": \"Population\", \"NAME\": \"Name\", \"county\": \"County\"})\n",
    "\n",
    "census_mn_2 = census_2017[census_2017[\"Name\"].str.contains(\"Minnesota\")]\n",
    "census_mn_2017 = pd.concat([census_mn_2, census_mn_2[\"Name\"].str.split(',', expand=True)], axis=1)\n",
    "census_mn_2017 = census_mn_2017.rename(columns={0: \"County\", 1: \"State Name\", \"County\": \"County Code\"})\n",
    "census_mn_2017[\"County\"] = census_mn_2017[\"County\"].str.replace(\"County\", '')\n",
    "census_mn_2017[\"County\"] = census_mn_2017[\"County\"].str.strip()\n",
    "del census_mn_2017[\"Name\"]\n",
    "\n",
    "census_mn_2017.head()\n"
   ]
  },
  {
   "cell_type": "code",
   "execution_count": null,
   "metadata": {},
   "outputs": [],
   "source": [
    "census_data_3 = c.acs5.get((\"NAME\", \"B05012_001E\"), {\"for\": \"county:*\"}, year = 2018)\n",
    "\n",
    "# Convert to DataFrame\n",
    "census_2018 = pd.DataFrame(census_data_3)\n",
    "\n",
    "# Column Reordering\n",
    "census_2018 = census_2018.rename(columns={\"B05012_001E\": \"Population\", \"NAME\": \"Name\", \"county\": \"County\"})\n",
    "\n",
    "census_mn_3 = census_2018[census_2018[\"Name\"].str.contains(\"Minnesota\")]\n",
    "census_mn_2018 = pd.concat([census_mn_3, census_mn_3[\"Name\"].str.split(',', expand=True)], axis=1)\n",
    "census_mn_2018 = census_mn_2018.rename(columns={0: \"County\", 1: \"State Name\", \"County\": \"County Code\"})\n",
    "census_mn_2018[\"County\"] = census_mn_2018[\"County\"].str.replace(\"County\", '')\n",
    "census_mn_2018[\"County\"] = census_mn_2018[\"County\"].str.strip()\n",
    "del census_mn_2018[\"Name\"]\n",
    "\n",
    "census_mn_2018.head()\n"
   ]
  },
  {
   "cell_type": "code",
   "execution_count": null,
   "metadata": {},
   "outputs": [],
   "source": [
    "#read in EPA csv files\n",
    "epa_aqi_2016 = pd.read_csv(\"AQI_2016.csv\")\n",
    "epa_aqi_2017 = pd.read_csv(\"AQI_2017.csv\")\n",
    "epa_aqi_2018 = pd.read_csv(\"AQI_2018.csv\")\n",
    "\n",
    "epa_aqi_mn_2016 = epa_aqi_2016[epa_aqi_2016[\"State\"].str.contains(\"Minnesota\")]\n",
    "epa_aqi_mn_2017 = epa_aqi_2017[epa_aqi_2017[\"State\"].str.contains(\"Minnesota\")]\n",
    "epa_aqi_mn_2018 = epa_aqi_2018[epa_aqi_2018[\"State\"].str.contains(\"Minnesota\")]\n",
    "\n",
    "epa_aqi_mn_2018.head(10)"
   ]
  },
  {
   "cell_type": "code",
   "execution_count": null,
   "metadata": {},
   "outputs": [],
   "source": [
    "census_mn_2016[\"County\"] = census_mn_2016[\"County\"].astype(str)\n",
    "epa_aqi_mn_2016[\"County\"] = epa_aqi_mn_2016[\"County\"].astype(str)\n",
    "\n",
    "df1 = epa_aqi_mn_2016.merge(census_mn_2016, on = \"County\")\n",
    "\n",
    "df1.head()"
   ]
  },
  {
   "cell_type": "code",
   "execution_count": null,
   "metadata": {},
   "outputs": [],
   "source": [
    "population_2016 = df1.iloc[:, 19]\n",
    "air_2016 = df1.iloc[:, 4]\n",
    "aqi_days_2016 = df1.iloc[:, 3]\n",
    "df1[\"Air Quality\"] = (air_2016 / aqi_days_2016)*100\n",
    "\n",
    "air_quality_2016 = df1.iloc[:, 23]\n",
    "six_slope, six_int, six_r, six_p, six_std_err = stats.linregress(population_2016, air_quality_2016)\n",
    "six_fit = six_slope * population_2016 + six_int\n",
    "line_1 = \"y = \" + str(round(six_slope, 6)) + \"x + \" + str(round(six_int, 2))\n",
    "plt.scatter(population_2016, air_quality_2016)\n",
    "plt.plot(population_2016, six_fit,\"-\", color = \"red\")\n",
    "plt.xlabel(\"Population\")\n",
    "plt.ylabel(\"% Good Days\")\n",
    "plt.annotate(line_1, (33375, 70), fontsize=20, color = \"red\")\n",
    "plt.show()\n",
    "print(f\"R squared: {six_r ** 2}\")\n",
    "df1.head(25)"
   ]
  },
  {
   "cell_type": "code",
   "execution_count": null,
   "metadata": {},
   "outputs": [],
   "source": [
    "census_mn_2017[\"County\"] = census_mn_2017[\"County\"].astype(str)\n",
    "epa_aqi_mn_2017[\"County\"] = epa_aqi_mn_2017[\"County\"].astype(str)\n",
    "\n",
    "df2 = epa_aqi_mn_2017.merge(census_mn_2017, on = \"County\")\n",
    "\n",
    "df2.head()"
   ]
  },
  {
   "cell_type": "code",
   "execution_count": null,
   "metadata": {},
   "outputs": [],
   "source": [
    "population_2017 = df2.iloc[:, 19]\n",
    "air_2017 = df2.iloc[:, 4]\n",
    "aqi_days_2017 = df2.iloc[:, 3]\n",
    "df2[\"Air Quality\"] = (air_2017 / aqi_days_2017)*100\n",
    "\n",
    "air_quality_2017 = df2.iloc[:, 23]\n",
    "seven_slope, seven_int, seven_r, seven_p, seven_std_err = stats.linregress(population_2017, air_quality_2017)\n",
    "seven_fit = seven_slope * population_2017 + seven_int\n",
    "line_2 = \"y = \" + str(round(seven_slope, 6)) + \"x + \" + str(round(seven_int, 2))\n",
    "plt.scatter(population_2017, air_quality_2017)\n",
    "plt.plot(population_2017, seven_fit,\"-\", color = \"red\")\n",
    "plt.xlabel(\"Population\")\n",
    "plt.ylabel(\"% Good Days\")\n",
    "plt.annotate(line_2, (33375, 60), fontsize=20, color = \"red\")\n",
    "plt.show()\n",
    "print(f\"R squared: {seven_r ** 2}\")\n",
    "df2.head(25)"
   ]
  },
  {
   "cell_type": "code",
   "execution_count": null,
   "metadata": {},
   "outputs": [],
   "source": [
    "census_mn_2018[\"County\"] = census_mn_2018[\"County\"].astype(str)\n",
    "epa_aqi_mn_2018[\"County\"] = epa_aqi_mn_2018[\"County\"].astype(str)\n",
    "\n",
    "df3 = epa_aqi_mn_2018.merge(census_mn_2018, on = \"County\")\n",
    "\n",
    "df3.head()"
   ]
  },
  {
   "cell_type": "code",
   "execution_count": null,
   "metadata": {},
   "outputs": [],
   "source": [
    "population_2018 = df3.iloc[:, 19]\n",
    "air_2018 = df3.iloc[:, 4]\n",
    "aqi_days_2018 = df3.iloc[:, 3]\n",
    "df3[\"Air Quality\"] = (air_2018 / aqi_days_2018)*100\n",
    "\n",
    "air_quality_2018 = df3.iloc[:, 23]\n",
    "eight_slope, eight_int, eight_r, eight_p, eight_std_err = stats.linregress(population_2018, air_quality_2018)\n",
    "eight_fit = eight_slope * population_2018 + eight_int\n",
    "line_3 = \"y = \" + str(round(eight_slope, 6)) + \"x + \" + str(round(eight_int, 2))\n",
    "plt.scatter(population_2018, air_quality_2018)\n",
    "plt.plot(population_2018, eight_fit,\"-\", color = \"red\")\n",
    "plt.xlabel(\"Population\")\n",
    "plt.ylabel(\"% Good Days\")\n",
    "plt.annotate(line_3, (300000, 90), fontsize=20, color = \"red\")\n",
    "plt.show()\n",
    "print(f\"R squared: {eight_r ** 2}\")\n",
    "df3.head(25)"
   ]
  },
  {
   "cell_type": "code",
   "execution_count": null,
   "metadata": {},
   "outputs": [],
   "source": []
  },
  {
   "cell_type": "code",
   "execution_count": null,
   "metadata": {},
   "outputs": [],
   "source": [
    "# Brandon's section ends here"
   ]
  }
 ],
 "metadata": {
  "kernelspec": {
   "display_name": "Python 3",
   "language": "python",
   "name": "python3"
  },
  "language_info": {
   "codemirror_mode": {
    "name": "ipython",
    "version": 3
   },
   "file_extension": ".py",
   "mimetype": "text/x-python",
   "name": "python",
   "nbconvert_exporter": "python",
   "pygments_lexer": "ipython3",
   "version": "3.6.9"
  }
 },
 "nbformat": 4,
 "nbformat_minor": 2
}
