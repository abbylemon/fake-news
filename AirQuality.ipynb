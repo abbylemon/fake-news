{
 "cells": [
  {
   "cell_type": "code",
   "execution_count": null,
   "metadata": {},
   "outputs": [],
   "source": [
    "# imports\n",
    "import requests\n",
    "import pandas as pd\n",
    "from census import Census\n",
    "import matplotlib.pyplot as plt\n",
    "\n",
    "# api keys\n",
    "from config import wkey, epakey, censuskey, epaemail"
   ]
  },
  {
   "cell_type": "code",
   "execution_count": null,
   "metadata": {},
   "outputs": [],
   "source": [
    "# Abby's section starts here"
   ]
  },
  {
   "cell_type": "code",
   "execution_count": null,
   "metadata": {},
   "outputs": [],
   "source": [
    "# PurpleAir API\n",
    "\n",
    "purple_air_df = pd.DataFrame()\n",
    "purple_air_df['Index'] = [x for x in range(10000)]\n",
    "purple_air_df = purple_air_df.set_index('Index')\n",
    "purple_air_df['PLat'] = \"\"\n",
    "purple_air_df['PLng'] = \"\"\n",
    "purple_air_df['PLocation'] = \"\"\n",
    "purple_air_df['PPM2_5'] = \"\"\n",
    "purple_air_df['PDataDate'] = \"\"\n",
    "\n",
    "base_url = \"https://www.purpleair.com/json\"\n",
    "response = requests.get(base_url).json()\n",
    "\n",
    "for index, row in purple_air_df.iterrows():\n",
    "    \n",
    "    try:\n",
    "        purple_air_df.loc[index, 'PLat'] = response['results'][index]['Lat']\n",
    "        purple_air_df.loc[index, 'PLng'] = response['results'][index]['Lon']\n",
    "        purple_air_df.loc[index, 'PLocation'] = response['results'][index]['DEVICE_LOCATIONTYPE']\n",
    "        purple_air_df.loc[index, 'PPM2_5'] = response['results'][index]['PM2_5Value']\n",
    "        purple_air_df.loc[index, 'PDataDate'] = response['results'][index]['LastSeen']\n",
    "#         could also pull time since last seen and only grab values from the last hour\n",
    "    except:\n",
    "        pass\n",
    "\n",
    "purple_air_df = purple_air_df.dropna()\n",
    "purple_air_df"
   ]
  },
  {
   "cell_type": "code",
   "execution_count": null,
   "metadata": {
    "scrolled": true
   },
   "outputs": [],
   "source": [
    "purple_air_df = purple_air_df.loc[purple_air_df['PLocation']=='outside']\n",
    "purple_air_df\n",
    "\n",
    "locations = purple_air_df[['PLat', 'PLng']]\n",
    "locations"
   ]
  },
  {
   "cell_type": "code",
   "execution_count": null,
   "metadata": {},
   "outputs": [],
   "source": [
    "# EPA API\n",
    "# sample data (lowest granularity date) by box (lat, long range)\n",
    "\n",
    "lat_lng_range = 0.001\n",
    "\n",
    "pollutant = '88101'\n",
    "beginning_date = min(purple_air_df['PDataDate'])\n",
    "end_date = max(purple_air_df['PDataDate'])\n",
    "\n",
    "for lat, lng in locations:\n",
    "    min_lat = str(lat - lat_lng_range)\n",
    "    max_lat = str(lat + lat_lng_range)\n",
    "    min_lng = str(lng - lat_lng_range)\n",
    "    max_lng = str(lng + lat_lng_range)\n",
    "\n",
    "    base_url = \"https://aps.eap.gov/data/api/sampleData/byBox?\"\n",
    "    url = f'{base_url}email={epaemail}&key={epakey}&param={pollutant}&bdate={beginning_date}&edate={end_date}&minlat={min_lat}&maxlat={max_lat}&minlon={min_lng}&maxlon={max_lng}'\n",
    "    response = requests.get(url).json()\n",
    "    print(response)\n",
    "#     try:\n",
    "        \n",
    "        \n",
    "\n",
    "# ex: https://aqs.epa.gov/data/api/sampleData/byBox?email=test@aqs.api&key=test&param=44201&bdate=20150501&edate=20150502&minlat=33.3&maxlat=33.6&minlon=-87.0&maxlon=-86.7"
   ]
  },
  {
   "cell_type": "code",
   "execution_count": null,
   "metadata": {},
   "outputs": [],
   "source": [
    "# EPA API\n",
    "# EPA Air Quality Section\n",
    "# yearly data by state (minnesota)\n",
    "\n",
    "pm2_5_1Hour = []\n",
    "pm2_5_24HourBulk = []\n",
    "pm2_5_24Hour = []\n",
    "year_list = []\n",
    "years = [x for x in range(1990,2020)]\n",
    "\n",
    "email = 'abby.lemon22@gmail.com'\n",
    "state_code = \"27\" \n",
    "# PM2.5 - Local Conditions\n",
    "pollutant = \"88101\"\n",
    "\n",
    "for year in years:\n",
    "    beginging_date = f\"{year}0502\"\n",
    "    end_date = f\"{year}0502\"\n",
    "    base_url = \"https://aqs.epa.gov/data/api/annualData/byState?\"\n",
    "    url = f'{base_url}email={email}&key={epakey}&param={pollutant}&bdate={beginging_date}&edate={end_date}&state={state_code}'\n",
    "    response = requests.get(url).json()\n",
    "    try:\n",
    "        pm2_5_1Hour.append(response['Data'][0]['arithmetic_mean'])\n",
    "        pm2_5_24HourBulk.append(response['Data'][1]['arithmetic_mean'])\n",
    "        pm2_5_24Hour.append(response['Data'][5]['arithmetic_mean'])\n",
    "        year_list.append(response['Data'][0]['year'])\n",
    "    except:\n",
    "        print(f\"No data found, skip {year}.\")\n",
    "        pass\n",
    "\n"
   ]
  },
  {
   "cell_type": "code",
   "execution_count": null,
   "metadata": {},
   "outputs": [],
   "source": [
    "pm2_5_df = pd.DataFrame([year_list,pm2_5_1Hour,pm2_5_24HourBulk,pm2_5_24Hour]).T\n",
    "pm2_5_df = pm2_5_df.rename(columns={0:'Year',\n",
    "                                    1:'PM 2.5 1 hour',\n",
    "                                    2:'PM 2.5 24 hour bulk',\n",
    "                                    3:'PM 2.5 24 hour'\n",
    "})\n",
    "pm2_5_df['Year'] = pm2_5_df['Year'].astype(int)\n",
    "# pm2_5_df['PM 2.5'] = pm2_5\n",
    "pm2_5_df.to_csv(\"Resource/EPAData_per_year_MN.csv\")\n",
    "pm2_5_df"
   ]
  },
  {
   "cell_type": "code",
   "execution_count": null,
   "metadata": {},
   "outputs": [],
   "source": [
    "pm_plot = pm2_5_df.plot(kind='line', x='Year',y=['PM 2.5 1 hour','PM 2.5 24 hour bulk','PM 2.5 24 hour'],grid=True)\n",
    "plt.ylabel('PM2.5 (ug/m3)')\n",
    "plt.show()"
   ]
  },
  {
   "cell_type": "code",
   "execution_count": null,
   "metadata": {},
   "outputs": [],
   "source": [
    "# Census API\n",
    "# Thinking I might not need to pull Census data.\n",
    "\n",
    "c = Census(censuskey, year=2018)\n",
    "# need to get this working for 2019, what is the difference between 2010 and 2019?\n",
    "census_data = c.acs5.get((\"NAME\", \"B19013_001E\", \"B01003_001E\", \"B01002_001E\", \"B19301_001E\", \"B17001_002E\"), {'for': 'zip code tabulation area:*'})\n",
    "\n",
    "census_pd = pd.DataFrame(census_data)\n",
    "census_pd"
   ]
  },
  {
   "cell_type": "code",
   "execution_count": null,
   "metadata": {},
   "outputs": [],
   "source": [
    "# Abby's section ends here"
   ]
  },
  {
   "cell_type": "code",
   "execution_count": null,
   "metadata": {},
   "outputs": [],
   "source": [
    "# Alan's section starts here"
   ]
  },
  {
   "cell_type": "code",
   "execution_count": null,
   "metadata": {},
   "outputs": [],
   "source": [
    "# Alan's section ends here"
   ]
  },
  {
   "cell_type": "code",
   "execution_count": null,
   "metadata": {},
   "outputs": [],
   "source": [
    "# Brandon's section starts here"
   ]
  },
  {
   "cell_type": "code",
   "execution_count": null,
   "metadata": {},
   "outputs": [],
   "source": []
  },
  {
   "cell_type": "code",
   "execution_count": null,
   "metadata": {},
   "outputs": [],
   "source": [
    "# Brandon's section ends here"
   ]
  }
 ],
 "metadata": {
  "kernelspec": {
   "display_name": "Python 3",
   "language": "python",
   "name": "python3"
  },
  "language_info": {
   "codemirror_mode": {
    "name": "ipython",
    "version": 3
   },
   "file_extension": ".py",
   "mimetype": "text/x-python",
   "name": "python",
   "nbconvert_exporter": "python",
   "pygments_lexer": "ipython3",
   "version": "3.6.9"
  }
 },
 "nbformat": 4,
 "nbformat_minor": 2
}
